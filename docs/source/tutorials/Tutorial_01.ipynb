{
  "metadata": {
    "kernelspec": {
      "name": "python",
      "display_name": "Python (Pyodide)",
      "language": "python"
    },
    "language_info": {
      "codemirror_mode": {
        "name": "python",
        "version": 3
      },
      "file_extension": ".py",
      "mimetype": "text/x-python",
      "name": "python",
      "nbconvert_exporter": "python",
      "pygments_lexer": "ipython3",
      "version": "3.8"
    }
  },
  "nbformat_minor": 5,
  "nbformat": 4,
  "cells": [
    {
      "id": "48e48d7f-053e-4a1b-8f95-f2c083c949cd",
      "cell_type": "markdown",
      "source": "# Tutorial 01: Start with pyTENAX",
      "metadata": {}
    },
    {
      "id": "24266dc5-298b-47a7-8884-6b391dd78400",
      "cell_type": "markdown",
      "source": "Import all libraries needed for running basic TENAX",
      "metadata": {}
    },
    {
      "id": "9fb356f4-980b-473d-bdc7-1d4b0a3d8d3a",
      "cell_type": "code",
      "source": "from importlib.resources import files\nimport numpy as np\nimport pandas as pd\nimport matplotlib.pyplot as plt\n# Import pyTENAX\nfrom pyTENAX import tenax, plotting",
      "metadata": {},
      "outputs": [],
      "execution_count": null
    },
    {
      "id": "d075c82d-500c-46a9-ab7c-bdd65283d44b",
      "cell_type": "markdown",
      "source": "Let's initiate TENAX class with given setup. For more information about TENAX class, please refer to API documention.",
      "metadata": {}
    },
    {
      "id": "2f471a9b-98b3-450e-b326-60ad6117cd08",
      "cell_type": "code",
      "source": "# Initiate TENAX class with customized setup\nS = tenax.TENAX(\n    return_period=[\n        2,\n        5,\n        10,\n        20,\n        50,\n        100,\n        200,\n    ],\n    durations=[10, 60, 180, 360, 720, 1440], #durations are in minutes and they refer to depth of rainfall within given duration\n    time_resolution=5,  # time resolution in minutes\n    left_censoring=[0, 0.90], # left censoring threshold \n    alpha=0.05, # dependence of shape on T depends on statistical significance at the alpha-level.\n    min_rain = 0.1, # minimum rainfall depth threshold\n)",
      "metadata": {},
      "outputs": [],
      "execution_count": null
    },
    {
      "id": "1641d7d1-9551-4417-b039-c9b1d10a5660",
      "cell_type": "markdown",
      "source": "Load test data included in the resources directory.   \nThe column names of the precipitation and temperature datasets need to be specified for the TENAX preprocessing stage. The indexes also need to be set to datetime.",
      "metadata": {}
    },
    {
      "id": "b43a02dd-66fc-4007-ba4d-f16f10247962",
      "cell_type": "code",
      "source": "# Load precipitation data\n# Create input path file for the test file\nfile_path_input = files('pyTENAX.res').joinpath('prec_data_Aadorf.parquet')\n# Load data from csv file\ndata = pd.read_parquet(file_path_input)\n# Convert 'prec_time' column to datetime, if it's not already\ndata[\"prec_time\"] = pd.to_datetime(data[\"prec_time\"])\n# Set 'prec_time' as the index\ndata.set_index(\"prec_time\", inplace=True)\nname_col = \"prec_values\"  # name of column containing data to extract\n\n# Load temperature data\nfile_path_temperature = files('pyTENAX.res').joinpath('temp_data_Aadorf.parquet')\nt_data = pd.read_parquet(file_path_temperature)\n# Convert 'temp_time' column to datetime if it's not already in datetime format\nt_data[\"temp_time\"] = pd.to_datetime(t_data[\"temp_time\"])\n# Set 'temp_time' as the index\nt_data.set_index(\"temp_time\", inplace=True)\ntemp_name_col = \"temp_values\"",
      "metadata": {},
      "outputs": [],
      "execution_count": null
    },
    {
      "id": "d716d3c5-4bff-4465-bd59-a97e9d9c242a",
      "cell_type": "markdown",
      "source": "## Preprocessing ",
      "metadata": {}
    },
    {
      "id": "bfbe267d-e6ca-4715-9298-8f81eaef069e",
      "cell_type": "markdown",
      "source": "Remove incomplete years. Default is 10%.  \nThis can be changed in TENAX class initiation by including \"tolerance\" parameter.  \ntolerance (float, optional): Maximum allowed fraction of missing data in one year. If exceeded, year will be disregarded from samples.",
      "metadata": {}
    },
    {
      "id": "f4240b96-48dd-4767-ac21-644fd9e82fe3",
      "cell_type": "code",
      "source": "data = S.remove_incomplete_years(data, name_col)",
      "metadata": {},
      "outputs": [],
      "execution_count": null
    },
    {
      "id": "239a3904-bb1a-4c56-883b-955627250798",
      "cell_type": "markdown",
      "source": "Transfer data from pandas to numpy as some parts of TENAX class doesn't support pandas, also numpy is faster :) ",
      "metadata": {}
    },
    {
      "id": "8fbcf5b8-1eb9-46d2-b465-55b68afb8167",
      "cell_type": "code",
      "source": "# get data from pandas to numpy array\ndf_arr = np.array(data[name_col])\ndf_dates = np.array(data.index)\ndf_arr_t_data = np.array(t_data[temp_name_col])\ndf_dates_t_data = np.array(t_data.index)",
      "metadata": {},
      "outputs": [],
      "execution_count": null
    },
    {
      "id": "25e45f6d-86ae-4dfe-8d01-d2c4348d718f",
      "cell_type": "markdown",
      "source": "Separate rainfall events by dry spell duration of 24h.  \nIf shorter or longer separation time is needed, it can be changed by inlcuding \"storm_separation_time\" in TENAX class initiation. ",
      "metadata": {}
    },
    {
      "id": "a36a34d8-c18d-40ac-ab20-6efbf9283ad1",
      "cell_type": "code",
      "source": "# extract indexes of ordinary events\n# these are time-wise indexes =>returns list of np arrays with np.timeindex\nidx_ordinary = S.get_ordinary_events(data=df_arr, \n                                     dates=df_dates, \n                                     name_col=name_col,\n                                     check_gaps=False)",
      "metadata": {},
      "outputs": [],
      "execution_count": null
    },
    {
      "id": "256002dd-f234-4dec-a639-952d6adb472b",
      "cell_type": "markdown",
      "source": "Now we know the times of rainfall events, we remove events that are too short.  \nThis is done by min_event_duration (int, optional): Minimum event duration [min].  \nDefaults to 30 (minutes).",
      "metadata": {}
    },
    {
      "id": "e4331edd-08c3-45f9-8a0e-8980702209f3",
      "cell_type": "code",
      "source": "# get ordinary events by removing too short events\n# returns boolean array, dates of OE in TO, FROM format, and count of OE in each years\narr_vals, arr_dates, n_ordinary_per_year = S.remove_short(idx_ordinary)",
      "metadata": {},
      "outputs": [],
      "execution_count": null
    },
    {
      "id": "14b11f65-01a4-4f2b-b1e4-2224846d3ef3",
      "cell_type": "markdown",
      "source": "Finally, we assign the ordinary events values (maximum depth for given durations) ",
      "metadata": {}
    },
    {
      "id": "a0dfb163-a028-4576-8479-f49ac00d0464",
      "cell_type": "code",
      "source": "# assign ordinary events values by given durations, values are in depth per duration, NOT in intensity mm/h\ndict_ordinary, dict_AMS = S.get_ordinary_events_values(data=df_arr, \n                                                       dates=df_dates, \n                                                       arr_dates_oe=arr_dates)",
      "metadata": {},
      "outputs": [],
      "execution_count": null
    },
    {
      "id": "ac77eb0a-23d6-448e-81ab-db2ee251249e",
      "cell_type": "markdown",
      "source": "After we know ordinary events values and time of maximum depth during the storms,  \nwe can associate temperatures to these events by calculating the temperature averaged during the 24 hours preceeding the rainfall event peak.  \nThe duration averaged over can be changed by including \"temp_time_hour\" parameter in TENAX class initiation. ",
      "metadata": {}
    },
    {
      "id": "8f602b10-d482-45f2-8f2b-4c79e79ffff1",
      "cell_type": "code",
      "source": "dict_ordinary, _, n_ordinary_per_year = S.associate_vars(dict_ordinary, \n                                                         df_arr_t_data, \n                                                         df_dates_t_data)",
      "metadata": {},
      "outputs": [],
      "execution_count": null
    },
    {
      "id": "76aeb3b9-24f9-499c-a16e-8b73626557bd",
      "cell_type": "markdown",
      "source": "The dictionary of ordinary events contains ordinary events and temperature values for all the specified durations.  \n**Here we focus only on 10 minutes depth and extract such from dictionary.**  \nWe also calculate the left-censoring threshold.",
      "metadata": {}
    },
    {
      "id": "b34c9782-d90f-4166-bb2f-4d817b38453b",
      "cell_type": "code",
      "source": "P = dict_ordinary[\"10\"][\"ordinary\"].to_numpy()  \nT = dict_ordinary[\"10\"][\"T\"].to_numpy()  \nblocks_id = dict_ordinary[\"10\"][\"year\"].to_numpy()  \n# Number of threshold\nthr = dict_ordinary[\"10\"][\"ordinary\"].quantile(S.left_censoring[1])",
      "metadata": {},
      "outputs": [],
      "execution_count": null
    },
    {
      "id": "6c3dd66e-0287-438d-a10a-3fbdb731cd67",
      "cell_type": "markdown",
      "source": "## TENAX model",
      "metadata": {}
    },
    {
      "id": "bdf70a0b-a461-4201-a6df-8378918fd4ac",
      "cell_type": "markdown",
      "source": "Here we create temperature intervals for following plots.",
      "metadata": {}
    },
    {
      "id": "84b1fa4f-abd1-4655-8026-f4625d9e8b11",
      "cell_type": "code",
      "source": "eT = np.arange(\n    np.min(T)-4, np.max(T) + 4, 1\n)  # define T values to calculate distributions. +4 to go beyond graph end",
      "metadata": {},
      "outputs": [],
      "execution_count": null
    },
    {
      "id": "90f2fc8d-9a8b-4a64-adbc-3ad3b480119c",
      "cell_type": "markdown",
      "source": "### Magnitude model ",
      "metadata": {}
    },
    {
      "id": "d0e16303-92e1-4c47-97c8-0fde30170f85",
      "cell_type": "code",
      "source": "# magnitude model\nF_phat, loglik, _, _ = S.magnitude_model(P, T, thr)\n\n# Plot the magnitude model\nqs = [0.85, 0.95, 0.99, 0.999]\nplotting.TNX_FIG_magn_model(P, T, F_phat, thr, eT, qs)\nplt.ylabel(\"10-minute precipitation (mm)\")\nplt.title(\"TENAX Magnitude model\")\nplt.legend(loc=\"upper center\", bbox_to_anchor=(0.5, -0.2))\nplt.show()",
      "metadata": {},
      "outputs": [],
      "execution_count": null
    },
    {
      "id": "a3fe70e0-9be8-47ed-bb60-3db977842155",
      "cell_type": "markdown",
      "source": "### Temperature model",
      "metadata": {}
    },
    {
      "id": "994436df-7710-4f73-9fe8-e0675a78d429",
      "cell_type": "code",
      "source": "# temperature model\ng_phat = S.temperature_model(T)\n\n# Plot the temperature model\nhist, pdf_values = plotting.TNX_FIG_temp_model(T, g_phat, S.beta, eT)\nplt.title(\"fig 2b\")\nplt.legend(loc=\"upper center\", bbox_to_anchor=(0.5, -0.2))\nplt.show()",
      "metadata": {},
      "outputs": [],
      "execution_count": null
    },
    {
      "id": "2922b3c8-c360-402a-b1c8-d94d028aa84e",
      "cell_type": "markdown",
      "source": "### Estimate return levels ",
      "metadata": {}
    },
    {
      "id": "aeee8617-0802-4c5e-ba0e-0bb2d32cd6eb",
      "cell_type": "markdown",
      "source": "We need to create sampling intervals for the Monte Carlo approximation of F(x).",
      "metadata": {}
    },
    {
      "id": "861082c8-ca6b-443d-9390-c981d437e910",
      "cell_type": "code",
      "source": "# Sampling intervals for the Montecarlo\nTs = np.arange(np.min(T) - S.temp_delta, \n               np.max(T) + S.temp_delta, \n               S.temp_res_monte_carlo)\n",
      "metadata": {},
      "outputs": [],
      "execution_count": null
    },
    {
      "id": "bbfb305c-2637-4f56-b77b-42ecdd383fd7",
      "cell_type": "markdown",
      "source": "After that we simply call the model_inversion function to estimate return levels based on our Magnitude and Temperature model.  \nWe also estimate TENAX uncertainty using bootstrapping, by creating 100 samples with mixed years. \n**Estimating TENAX uncertainty can take a while as it runs TENAX 100x**",
      "metadata": {}
    },
    {
      "id": "4d74c126-a13a-4c5b-8147-70b069a8dcb8",
      "cell_type": "code",
      "source": "#  mean n of ordinary events\nn = n_ordinary_per_year.sum() / len(n_ordinary_per_year)\n\n# estimates return levels using MC samples\nRL, _, P_check = S.model_inversion(F_phat, g_phat, n, Ts)\n\n# TENAX uncertainty\nS.n_monte_carlo = 20000\nF_phat_unc, g_phat_unc, RL_unc, n_unc, n_err = S.TNX_tenax_bootstrap_uncertainty(\n    P, T, blocks_id, Ts\n)\n\nAMS = dict_AMS[\"10\"]  # yet the annual maxima\nplotting.TNX_FIG_valid(AMS, S.return_period, RL=RL, RL_unc=RL_unc )\nplt.title(\"Estimated return levels by TENAX model vs Annual Maximas\")\nplt.ylabel(\"10-minute precipitation (mm)\")\nplt.legend(loc=\"upper center\", bbox_to_anchor=(0.5, -0.2))\nplt.show()",
      "metadata": {},
      "outputs": [],
      "execution_count": null
    }
  ]
}