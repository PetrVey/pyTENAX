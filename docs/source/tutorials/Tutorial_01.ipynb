{
 "cells": [
  {
   "cell_type": "markdown",
   "id": "48e48d7f-053e-4a1b-8f95-f2c083c949cd",
   "metadata": {},
   "source": [
    "# Tutorial 01: Start with pyTENAX"
   ]
  },
  {
   "cell_type": "markdown",
   "id": "24266dc5-298b-47a7-8884-6b391dd78400",
   "metadata": {},
   "source": [
    "Import all libraries needed for running basic TENAX"
   ]
  },
  {
   "cell_type": "code",
   "execution_count": null,
   "id": "9fb356f4-980b-473d-bdc7-1d4b0a3d8d3a",
   "metadata": {},
   "outputs": [],
   "source": [
    "from pathlib import Path\n",
    "from os.path import join\n",
    "import numpy as np\n",
    "import pandas as pd\n",
    "import matplotlib.pyplot as plt\n",
    "# Import pyTENAX\n",
    "from pyTENAX import tenax, plotting"
   ]
  },
  {
   "cell_type": "markdown",
   "id": "118062eb-6986-4550-9a65-6774d761185f",
   "metadata": {},
   "source": [
    "We need to specify path to directory with test data (RES_DIR)"
   ]
  },
  {
   "cell_type": "code",
   "execution_count": null,
   "id": "d5321d7e-7ab1-474f-99b1-a3a1c78b5c35",
   "metadata": {},
   "outputs": [],
   "source": [
    "# Get the directory of tenax\n",
    "SOURCE_DIR = Path(tenax.__file__).resolve()\n",
    "HOME_DIR = SOURCE_DIR.parents[2]  # parents[2] is the third parent directory\n",
    "RES_DIR = join(HOME_DIR, \"res\")\n",
    "print(SOURCE_DIR )\n",
    "print (HOME_DIR)\n",
    "print ( RES_DIR)"
   ]
  },
  {
   "cell_type": "markdown",
   "id": "d075c82d-500c-46a9-ab7c-bdd65283d44b",
   "metadata": {},
   "source": [
    "Let's initiate TENAX class with given setup. For more information about TENAX class, please refer to API documention."
   ]
  },
  {
   "cell_type": "code",
   "execution_count": null,
   "id": "2f471a9b-98b3-450e-b326-60ad6117cd08",
   "metadata": {},
   "outputs": [],
   "source": [
    "# Initiate TENAX class with customized setup\n",
    "S = tenax.TENAX(\n",
    "    return_period=[\n",
    "        2,\n",
    "        5,\n",
    "        10,\n",
    "        20,\n",
    "        50,\n",
    "        100,\n",
    "        200,\n",
    "    ],\n",
    "    durations=[10, 60, 180, 360, 720, 1440], #durations are in minutes and they refer to depth of rainfall within given duration\n",
    "    time_resolution=5,  # time resolution in minutes\n",
    "    left_censoring=[0, 0.90], # left censoring threshold \n",
    "    alpha=0.05, #dependence of shape on T depends on statistical significance at the alpha-level.\n",
    "    min_rain = 0.1, #minimum rainfall depth threshold\n",
    ")"
   ]
  }
 ],
 "metadata": {
  "kernelspec": {
   "display_name": "Python 3 (ipykernel)",
   "language": "python",
   "name": "python3"
  },
  "language_info": {
   "codemirror_mode": {
    "name": "ipython",
    "version": 3
   },
   "file_extension": ".py",
   "mimetype": "text/x-python",
   "name": "python",
   "nbconvert_exporter": "python",
   "pygments_lexer": "ipython3",
   "version": "3.11.5"
  }
 },
 "nbformat": 4,
 "nbformat_minor": 5
}
