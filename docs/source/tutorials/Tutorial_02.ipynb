{
  "metadata": {
    "kernelspec": {
      "name": "python",
      "display_name": "Python (Pyodide)",
      "language": "python"
    },
    "language_info": {
      "codemirror_mode": {
        "name": "python",
        "version": 3
      },
      "file_extension": ".py",
      "mimetype": "text/x-python",
      "name": "python",
      "nbconvert_exporter": "python",
      "pygments_lexer": "ipython3",
      "version": "3.8"
    }
  },
  "nbformat_minor": 5,
  "nbformat": 4,
  "cells": [
    {
      "id": "48e48d7f-053e-4a1b-8f95-f2c083c949cd",
      "cell_type": "markdown",
      "source": "# Tutorial 02: TENAX vs SMEV (extreme value method)",
      "metadata": {}
    },
    {
      "id": "24266dc5-298b-47a7-8884-6b391dd78400",
      "cell_type": "markdown",
      "source": "Import all libraries needed for running TENAX and SMEV",
      "metadata": {}
    },
    {
      "id": "9fb356f4-980b-473d-bdc7-1d4b0a3d8d3a",
      "cell_type": "code",
      "source": "from importlib_resources import files\nimport numpy as np\nimport pandas as pd\nimport matplotlib.pyplot as plt\n# Import pyTENAX\nfrom pyTENAX import tenax, smev, plotting",
      "metadata": {},
      "outputs": [],
      "execution_count": null
    },
    {
      "id": "d075c82d-500c-46a9-ab7c-bdd65283d44b",
      "cell_type": "markdown",
      "source": "Let's initiate TENAX class and SMEV class with given setup.",
      "metadata": {}
    },
    {
      "id": "2f471a9b-98b3-450e-b326-60ad6117cd08",
      "cell_type": "code",
      "source": "# Initiate TENAX class with customized setup\nS = tenax.TENAX(\n    return_period=[\n        2,\n        5,\n        10,\n        20,\n        50,\n        100,\n        200,\n    ],\n    durations=[10, 60, 180, 360, 720, 1440], #durations are in minutes and they refer to depth of rainfall within given duration\n    time_resolution=5,  # time resolution in minutes\n    left_censoring=[0, 0.90], # left censoring threshold \n    alpha=0.05, #dependence of shape on T depends on statistical significance at the alpha-level.\n    min_rain = 0.1, #minimum rainfall depth threshold\n)\n\n# Initiate SMEV class with customized setup following TENAX \nS_SMEV = smev.SMEV(\n    threshold=0.1,\n    separation=24,\n    return_period=S.return_period,\n    durations=S.durations,\n    time_resolution=5,  # time resolution in minutes\n    min_duration=30,\n    left_censoring=[S.left_censoring[1], 1],\n)",
      "metadata": {},
      "outputs": [],
      "execution_count": null
    },
    {
      "id": "1641d7d1-9551-4417-b039-c9b1d10a5660",
      "cell_type": "markdown",
      "source": "Load same test data as in Tutorial 01.",
      "metadata": {}
    },
    {
      "id": "b43a02dd-66fc-4007-ba4d-f16f10247962",
      "cell_type": "code",
      "source": "# Load precipitation data\n# Create input path file for the test file\nfile_path_input = files('pyTENAX.res').joinpath('prec_data_Aadorf.parquet')\n# Load data from csv file\ndata = pd.read_parquet(file_path_input)\n# Convert 'prec_time' column to datetime, if it's not already\ndata[\"prec_time\"] = pd.to_datetime(data[\"prec_time\"])\n# Set 'prec_time' as the index\ndata.set_index(\"prec_time\", inplace=True)\nname_col = \"prec_values\"  # name of column containing data to extract\n\n# load temperature data\nfile_path_temperature = files('pyTENAX.res').joinpath('temp_data_Aadorf.parquet')\nt_data = pd.read_parquet(file_path_temperature)\n# Convert 'temp_time' column to datetime if it's not already in datetime format\nt_data[\"temp_time\"] = pd.to_datetime(t_data[\"temp_time\"])\n# Set 'temp_time' as the index\nt_data.set_index(\"temp_time\", inplace=True)\ntemp_name_col = \"temp_values\"",
      "metadata": {},
      "outputs": [],
      "execution_count": null
    },
    {
      "id": "d716d3c5-4bff-4465-bd59-a97e9d9c242a",
      "cell_type": "markdown",
      "source": "## Repeat the preprocessing from Tutorial 01.\nWe once again focus only on 10 minutes rainfall depth.",
      "metadata": {}
    },
    {
      "id": "f4240b96-48dd-4767-ac21-644fd9e82fe3",
      "cell_type": "code",
      "source": "data = S.remove_incomplete_years(data, name_col)\n\n# get data from pandas to numpy array\ndf_arr = np.array(data[name_col])\ndf_dates = np.array(data.index)\ndf_arr_t_data = np.array(t_data[temp_name_col])\ndf_dates_t_data = np.array(t_data.index)\n\n# extract indexes of ordinary events\n# these are time-wise indexes =>returns list of np arrays with np.timeindex\nidx_ordinary = S.get_ordinary_events(data=df_arr, \n                                     dates=df_dates, \n                                     name_col=name_col,\n                                     check_gaps=False)\n\n# get ordinary events by removing too short events\n# returns boolean array, dates of OE in TO, FROM format, and count of OE in each years\narr_vals, arr_dates, n_ordinary_per_year = S.remove_short(idx_ordinary)\n\n# assign ordinary events values by given durations, values are in depth per duration, NOT in intensity mm/h\ndict_ordinary, dict_AMS = S.get_ordinary_events_values(data=df_arr, \n                                                       dates=df_dates, \n                                                       arr_dates_oe=arr_dates)\n\ndict_ordinary, _, n_ordinary_per_year = S.associate_vars(dict_ordinary, \n                                                         df_arr_t_data, \n                                                         df_dates_t_data)\n\n# Your data (P, T arrays) and threshold thr=3.8\nP = dict_ordinary[\"10\"][\"ordinary\"].to_numpy()  # Replace with your actual data\nT = dict_ordinary[\"10\"][\"T\"].to_numpy()  # Replace with your actual data\nblocks_id = dict_ordinary[\"10\"][\"year\"].to_numpy()  # Replace with your actual data\n# Number of threshold\nthr = dict_ordinary[\"10\"][\"ordinary\"].quantile(S.left_censoring[1])",
      "metadata": {},
      "outputs": [],
      "execution_count": null
    },
    {
      "id": "bdf70a0b-a461-4201-a6df-8378918fd4ac",
      "cell_type": "markdown",
      "source": "# Repeat TENAX model (same as Tutorial 01)  \nNote: This doesn't run TENAX uncertainty by boostrapping framework.",
      "metadata": {}
    },
    {
      "id": "84b1fa4f-abd1-4655-8026-f4625d9e8b11",
      "cell_type": "code",
      "source": "eT = np.arange(\n    np.min(T)-4, np.max(T) + 4, 1\n)  # define T values to calculate distributions. +4 to go beyond graph end\n\n# magnitude model\nF_phat, loglik, _, _ = S.magnitude_model(P, T, thr)\n\n# temperature model\ng_phat = S.temperature_model(T)\n\n# Sampling intervals for the Montecarlo\nTs = np.arange(np.min(T) - S.temp_delta, \n               np.max(T) + S.temp_delta, \n               S.temp_res_monte_carlo)\n\n#  mean n of ordinary events\nn = n_ordinary_per_year.sum() / len(n_ordinary_per_year)\n\n# estimates return levels using MC samples\nRL, _, P_check = S.model_inversion(F_phat, g_phat, n, Ts)",
      "metadata": {},
      "outputs": [],
      "execution_count": null
    },
    {
      "id": "5904f039-9287-4d1b-a814-880b14fb35fb",
      "cell_type": "markdown",
      "source": "# SMEV model",
      "metadata": {}
    },
    {
      "id": "908256db-c93b-494f-9a55-ab4683b9b41b",
      "cell_type": "code",
      "source": "# estimate shape and  scale parameters of weibull distribution\nsmev_shape, smev_scale = S_SMEV.estimate_smev_parameters(P, S_SMEV.left_censoring)\n# estimate return period (quantiles) with SMEV\nsmev_RL = S_SMEV.smev_return_values(\n    S_SMEV.return_period, smev_shape, smev_scale, n.item()\n)\n\nsmev_RL_unc = S_SMEV.SMEV_bootstrap_uncertainty(P, blocks_id, S.niter_smev, n.item())",
      "metadata": {
        "trusted": true
      },
      "outputs": [],
      "execution_count": null
    },
    {
      "id": "ec6dae24-d55d-4f03-b82e-ba175a44ed33",
      "cell_type": "markdown",
      "source": "# Plot results TENAX vs SMEV \nNote, we excluded TENAX uncertainty here as it would take too much time to run.",
      "metadata": {}
    },
    {
      "id": "54fb390c-44e2-45dd-8f78-2ab96299bec2",
      "cell_type": "code",
      "source": "AMS = dict_AMS[\"10\"]  # yet the annual maxima\nplotting.TNX_FIG_valid(AMS,\n                       S.return_period, \n                       RL=RL, \n                       smev_RL=smev_RL, \n                       RL_unc=[], \n                       smev_RL_unc=smev_RL_unc)\nplt.title(\"fig 4\")\nplt.ylabel(\"10-minute precipitation (mm)\")\nplt.legend(loc=\"upper center\", bbox_to_anchor=(0.5, -0.2))\nplt.show()",
      "metadata": {
        "trusted": true
      },
      "outputs": [],
      "execution_count": null
    },
    {
      "id": "4f0e577f-98a4-4f92-b92f-27523d2d9c65",
      "cell_type": "markdown",
      "source": "### *Plot above represent how well TENAX fits extreme value method which doens't use temperature as covariate.*",
      "metadata": {}
    }
  ]
}