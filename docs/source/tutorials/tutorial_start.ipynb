{
  "metadata": {
    "kernelspec": {
      "name": "python",
      "display_name": "Python (Pyodide)",
      "language": "python"
    },
    "language_info": {
      "codemirror_mode": {
        "name": "python",
        "version": 3
      },
      "file_extension": ".py",
      "mimetype": "text/x-python",
      "name": "python",
      "nbconvert_exporter": "python",
      "pygments_lexer": "ipython3",
      "version": "3.8"
    }
  },
  "nbformat_minor": 5,
  "nbformat": 4,
  "cells": [
   {
      "id": "title-cell",
      "cell_type": "markdown",
      "metadata": {},
      "source": [
        "# Example Notebook: Minimal Working Title"
      ]
    },
    {
      "id": "5d4d690f-edd4-4466-a224-ca24aa00ac86",
      "cell_type": "code",
      "source": "import numpy as np\nimport pandas as pd\nimport time\nimport matplotlib.pyplot as plt\nfrom scipy.stats import chi2\nimport sys\nimport os\n\n# Get the parent directory of the current working directory in BINDER\nSOURCE_DIR = os.path.dirname(os.path.dirname(os.path.dirname(os.getcwd())))\nCODE_DIR = os.path.join(SOURCE_DIR, \"src\")\nRES_DIR = os.path.join(SOURCE_DIR, \"res\")\nsys.path.append(CODE_DIR)\nsys.path.append(RES_DIR)\n\n# Import pyTENAX\nfrom pyTENAX import smev, tenax, plotting",
      "metadata": {
        "trusted": true
      },
      "outputs": [],
      "execution_count": null
    },
    {
      "id": "6c59b966-16d4-4f06-b533-47b3f28b58f1",
      "cell_type": "code",
      "source": "S = tenax.TENAX(\n    return_period=[\n        2,\n        5,\n        10,\n        20,\n        50,\n        100,\n        200,\n    ],  # for some reason it doesnt like calculating RP =<1\n    durations=[10, 60, 180, 360, 720, 1440],\n    time_resolution=5,  # time resolution in minutes\n    left_censoring=[0, 0.90],\n    alpha=0.05,\n)",
      "metadata": {
        "trusted": true
      },
      "outputs": [],
      "execution_count": null
    },
    {
      "id": "8abcd8e7-2254-495a-86ed-4770f30eac50",
      "cell_type": "code",
      "source": "file_path_input = \"res/prec_data_Aadorf.parquet\"\n# Load data from csv file\ndata = pd.read_parquet(os.path.join(RES_DIR, \"prec_data_Aadorf.parquet\"))",
      "metadata": {
        "trusted": true
      },
      "outputs": [],
      "execution_count": null
    },
    {
      "id": "ec9b4cce-85ca-4c5f-8194-cf2c5f2be318",
      "cell_type": "code",
      "source": "# Convert 'prec_time' column to datetime, if it's not already\ndata[\"prec_time\"] = pd.to_datetime(data[\"prec_time\"])\n# Set 'prec_time' as the index\ndata.set_index(\"prec_time\", inplace=True)\nname_col = \"prec_values\"  # name of column containing data to extract",
      "metadata": {
        "trusted": true
      },
      "outputs": [],
      "execution_count": null
    },
    {
      "id": "30f6b0f9-d899-460a-bf2f-b35bee1837bc",
      "cell_type": "code",
      "source": "# push values belows 0.1 to 0 in prec due to\ndata.loc[data[name_col] < S.min_rain, name_col] = 0",
      "metadata": {
        "trusted": true
      },
      "outputs": [],
      "execution_count": null
    },
    {
      "id": "f30e65a1-91d7-4735-b27e-617cc4a7f695",
      "cell_type": "code",
      "source": "data = S.remove_incomplete_years(data, name_col)",
      "metadata": {
        "trusted": true
      },
      "outputs": [],
      "execution_count": null
    },
    {
      "id": "e161e973-324b-4c07-9220-d5f7023dc982",
      "cell_type": "code",
      "source": "# get data from pandas to numpy array\ndf_arr = np.array(data[name_col])\ndf_dates = np.array(data.index)",
      "metadata": {
        "trusted": true
      },
      "outputs": [],
      "execution_count": null
    },
    {
      "id": "16213688-6309-4d8c-88d7-f9179b69c3de",
      "cell_type": "code",
      "source": "# extract indexes of ordinary events\n# these are time-wise indexes =>returns list of np arrays with np.timeindex\nidx_ordinary = S.get_ordinary_events(\n                data=df_arr, dates=df_dates, name_col=name_col, check_gaps=False\n                )",
      "metadata": {
        "trusted": true
      },
      "outputs": [],
      "execution_count": null
    },
    {
      "id": "ae15843c-bed4-42f9-b33f-ce17f2037291",
      "cell_type": "code",
      "source": "# get ordinary events by removing too short events\n# returns boolean array, dates of OE in TO, FROM format, and count of OE in each years\narr_vals, arr_dates, n_ordinary_per_year = S.remove_short(idx_ordinary)",
      "metadata": {
        "trusted": true
      },
      "outputs": [],
      "execution_count": null
    },
    {
      "id": "8ff18bd1-4df8-463b-86e8-04fa97f078e2",
      "cell_type": "code",
      "source": "# assign ordinary events values by given durations, values are in depth per duration, NOT in intensity mm/h\ndict_ordinary, dict_AMS = S.get_ordinary_events_values(\n                            data=df_arr, dates=df_dates, arr_dates_oe=arr_dates\n                            )",
      "metadata": {
        "trusted": true
      },
      "outputs": [],
      "execution_count": null
    },
    {
      "id": "241c15d8-b855-4e21-9d29-fec605d82127",
      "cell_type": "code",
      "source": "# load temperature data\nt_data = pd.read_parquet(os.path.join(RES_DIR, \"temp_data_Aadorf.parquet\"))\n# Convert 'temp_time' column to datetime if it's not already in datetime format\nt_data[\"temp_time\"] = pd.to_datetime(t_data[\"temp_time\"])\n# Set 'temp_time' as the index\nt_data.set_index(\"temp_time\", inplace=True)\ntemp_name_col = \"temp_values\"",
      "metadata": {
        "trusted": true
      },
      "outputs": [],
      "execution_count": null
    },
    {
      "id": "083a5139-ab02-4b64-9caa-3012f6842b0c",
      "cell_type": "code",
      "source": "df_arr_t_data = np.array(t_data[temp_name_col])\ndf_dates_t_data = np.array(t_data.index)",
      "metadata": {
        "trusted": true
      },
      "outputs": [],
      "execution_count": null
    },
    {
      "id": "f719bfd1-276a-47ab-872c-f0032fc2075b",
      "cell_type": "code",
      "source": "dict_ordinary, _, n_ordinary_per_year = S.associate_vars(\n    dict_ordinary, df_arr_t_data, df_dates_t_data\n)",
      "metadata": {
        "trusted": true
      },
      "outputs": [],
      "execution_count": null
    },
    {
      "id": "36ef09a8-05a9-442a-bbbc-7015d58a7160",
      "cell_type": "code",
      "source": "# Your data (P, T arrays) and threshold thr=3.8\nP = dict_ordinary[\"10\"][\"ordinary\"].to_numpy()  # Replace with your actual data\nT = dict_ordinary[\"10\"][\"T\"].to_numpy()  # Replace with your actual data\nblocks_id = dict_ordinary[\"10\"][\"year\"].to_numpy()  # Replace with your actual data\n# Number of threshold\nthr = dict_ordinary[\"10\"][\"ordinary\"].quantile(S.left_censoring[1])",
      "metadata": {
        "trusted": true
      },
      "outputs": [],
      "execution_count": null
    },
    {
      "id": "53ef0675-7c93-4dbc-8634-823ce821651b",
      "cell_type": "code",
      "source": "# Sampling intervals for the Montecarlo\nTs = np.arange(\n    np.min(T) - S.temp_delta, np.max(T) + S.temp_delta, S.temp_res_monte_carlo\n)",
      "metadata": {
        "trusted": true
      },
      "outputs": [],
      "execution_count": null
    },
    {
      "id": "de64ccdd-a554-4a14-9d5f-835236c963d0",
      "cell_type": "code",
      "source": "# TENAX MODEL HERE\n# magnitude model\nF_phat, loglik, _, _ = S.magnitude_model(P, T, thr)\n# temperature model\ng_phat = S.temperature_model(T)\n# M is mean n of ordinary events\nn = n_ordinary_per_year.sum() / len(n_ordinary_per_year)\n# estimates return levels using MC samples\nRL, _, P_check = S.model_inversion(F_phat, g_phat, n, Ts)",
      "metadata": {
        "trusted": true
      },
      "outputs": [],
      "execution_count": null
    },
    {
      "id": "5b26f6a3-8f9b-47c3-8ff0-e74bee0802e7",
      "cell_type": "code",
      "source": "# PLOTTING THE GRAPHS\neT = np.arange(\n    np.min(T), np.max(T) + 4, 1\n)  # define T values to calculate distributions. +4 to go beyond graph end\n\n# fig 2a\nqs = [0.85, 0.95, 0.99, 0.999]\nplotting.TNX_FIG_magn_model(P, T, F_phat, thr, eT, qs)\nplt.ylabel(\"10-minute precipitation (mm)\")\nplt.title(\"fig 2a\")\nplt.legend(loc=\"upper center\", bbox_to_anchor=(0.5, -0.2))\nplt.show()\n\n# fig 2b\nhist, pdf_values = tenax.TNX_FIG_temp_model(T, g_phat, S.beta, eT)\nplt.title(\"fig 2b\")\nplt.legend(loc=\"upper center\", bbox_to_anchor=(0.5, -0.2))\nplt.show()",
      "metadata": {
        "trusted": true
      },
      "outputs": [],
      "execution_count": null
    }
  ]
}