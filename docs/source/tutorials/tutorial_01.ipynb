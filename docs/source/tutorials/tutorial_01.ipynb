{
 "cells": [
  {
   "cell_type": "code",
   "execution_count": 1,
   "id": "3c719d9b",
   "metadata": {},
   "outputs": [],
   "source": [
    "import numpy as np\n",
    "import pandas as pd\n",
    "import time\n",
    "import matplotlib.pyplot as plt\n",
    "from scipy.stats import chi2\n",
    "from pyTENAX import smev, tenax, plotting"
   ]
  },
  {
   "cell_type": "code",
   "execution_count": 2,
   "id": "c50619fb",
   "metadata": {},
   "outputs": [],
   "source": [
    "S = tenax.TENAX(\n",
    "    return_period=[\n",
    "        2,\n",
    "        5,\n",
    "        10,\n",
    "        20,\n",
    "        50,\n",
    "        100,\n",
    "        200,\n",
    "    ],  # for some reason it doesnt like calculating RP =<1\n",
    "    durations=[10, 60, 180, 360, 720, 1440],\n",
    "    time_resolution=5,  # time resolution in minutes\n",
    "    left_censoring=[0, 0.90],\n",
    "    alpha=0.05,\n",
    ")"
   ]
  },
  {
   "cell_type": "code",
   "execution_count": 3,
   "id": "33cb84ad",
   "metadata": {},
   "outputs": [],
   "source": [
    "file_path_input = \"res/prec_data_Aadorf.parquet\"\n",
    "# Load data from csv file\n",
    "data = pd.read_parquet(file_path_input)"
   ]
  }
 ],
 "metadata": {
  "kernelspec": {
   "display_name": "Python 3",
   "language": "python",
   "name": "python3"
  },
  "language_info": {
   "codemirror_mode": {
    "name": "ipython",
    "version": 3
   },
   "file_extension": ".py",
   "mimetype": "text/x-python",
   "name": "python",
   "nbconvert_exporter": "python",
   "version": "3.8.8"
  }
 },
 "nbformat": 4,
 "nbformat_minor": 5
}
